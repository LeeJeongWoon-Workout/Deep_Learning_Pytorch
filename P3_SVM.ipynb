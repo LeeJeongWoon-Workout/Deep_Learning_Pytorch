{
  "nbformat": 4,
  "nbformat_minor": 0,
  "metadata": {
    "kernelspec": {
      "display_name": "Python 3",
      "language": "python",
      "name": "python3"
    },
    "language_info": {
      "codemirror_mode": {
        "name": "ipython",
        "version": 3
      },
      "file_extension": ".py",
      "mimetype": "text/x-python",
      "name": "python",
      "nbconvert_exporter": "python",
      "pygments_lexer": "ipython3",
      "version": "3.8.3"
    },
    "colab": {
      "name": "P3-SVM.ipynb",
      "provenance": [],
      "include_colab_link": true
    }
  },
  "cells": [
    {
      "cell_type": "markdown",
      "metadata": {
        "id": "view-in-github",
        "colab_type": "text"
      },
      "source": [
        "<a href=\"https://colab.research.google.com/github/LeeJeongWoon-Workout/Deep_Learning_Pytorch/blob/main/P3_SVM.ipynb\" target=\"_parent\"><img src=\"https://colab.research.google.com/assets/colab-badge.svg\" alt=\"Open In Colab\"/></a>"
      ]
    },
    {
      "cell_type": "markdown",
      "metadata": {
        "id": "cta_wvKs3_iT"
      },
      "source": [
        "# [SWCON253] Machine Learning\n",
        "Teaching Assistant: Hyunmin Ban (hmban1996@khu.ac.kr)\n",
        "\n",
        "Professor: Hui Yong Kim (hykim.v@khu.ac.kr)"
      ]
    },
    {
      "cell_type": "markdown",
      "metadata": {
        "id": "PW21Te8R3_iY"
      },
      "source": [
        "---"
      ]
    },
    {
      "cell_type": "markdown",
      "metadata": {
        "id": "Cpdei3n83_iZ"
      },
      "source": [
        "# P3.A:  SVM을 이용하여 선형 분류 (4점)\n",
        "\n",
        "### 학습목표\n",
        "- SVM 모델을 이용하여 선형 분류 가능한 데이터를 분류하는 분류기를 학습 할 수 있다.\n",
        "- Scikit-Learn을 이용하여 모델 학습, 검증 과정을 구현할 수 있다.\n",
        "\n",
        "### 실습내용\n",
        "Scikit-Learn의 SVM을 이용하여 선형 분류가 가능한 데이터셋을 분류하는 분류기를 학습해봅니다.  \n",
        "Scikit-Learn은 SVM Classification을 위해 SVC 클래스를 제공합니다. SVC 클래스 사용법은 아래 링크를 참고하세요.  \n",
        "https://scikit-learn.org/stable/modules/generated/sklearn.svm.SVC.html\n",
        "\n",
        "실습은 다음 순서로 진행됩니다.\n",
        "- 1) 주어진 데이터셋 loading\n",
        "- 2) SVM 모델 구현, 학습 **<직접 구현>**\n",
        "- 3) SVM 모델 검증 **<직접 구현>**\n",
        "- 4) Decision Boundary 시각화\n",
        "- 5) Discussion\n",
        "\n",
        "**이번 실습에서 여러분은 `2), 3)` 부분의 코드를 직접 작성합니다.**\n",
        "\n",
        "앞으로 대부분의 실습도 위와 같은 순서로 진행됩니다. 이번 실습을 통해 각 부분의 코드를 이해하고 다음 실습에 참고하도록합니다.\n",
        "\n",
        "\n",
        "### 점수\n",
        "- SVM 모델 작성: 4점\n",
        "\n",
        "`.ipynb 파일과 함께 .html 파일 (File -> export as -> HTML)도 함께 제출하세요. 하나만 제출할시 감점이 있습니다.`"
      ]
    },
    {
      "cell_type": "markdown",
      "metadata": {
        "id": "BuuPjReS3_ia"
      },
      "source": [
        "## Imports"
      ]
    },
    {
      "cell_type": "code",
      "metadata": {
        "id": "NjqmWhL13_ia"
      },
      "source": [
        "from sklearn.svm import SVC\n",
        "import numpy as np\n",
        "import matplotlib.pyplot as plt\n",
        "%matplotlib inline"
      ],
      "execution_count": 32,
      "outputs": []
    },
    {
      "cell_type": "markdown",
      "metadata": {
        "id": "hmFqxWk13_ib"
      },
      "source": [
        "## 1) Loading the Dataset\n",
        "코드를 실행시켜 실습코드와 같이 첨부된 dataset.csv파일을 로드합니다."
      ]
    },
    {
      "cell_type": "code",
      "metadata": {
        "colab": {
          "base_uri": "https://localhost:8080/"
        },
        "id": "xxI0Ebry3_ib",
        "outputId": "cb348f83-9dd7-4e84-902b-bd2ec7bc8954"
      },
      "source": [
        "# CSV 파일을 읽기\n",
        "X, y = [], []\n",
        "\n",
        "with open('/content/dataset.csv', 'r') as f:\n",
        "    next(f)\n",
        "    for line in f:\n",
        "        line = line.strip()\n",
        "        if line:\n",
        "            values = line.split(',')\n",
        "        else:\n",
        "            continue\n",
        "        X.append([float(i) for i in values[:2]])\n",
        "        y.append(int(values[-1]))\n",
        "        \n",
        "print(len(X), len(y))"
      ],
      "execution_count": 33,
      "outputs": [
        {
          "output_type": "stream",
          "name": "stdout",
          "text": [
            "100 100\n"
          ]
        }
      ]
    },
    {
      "cell_type": "markdown",
      "metadata": {
        "id": "-s1Ve8GL3_ic"
      },
      "source": [
        "### Dataset Split & Visualization\n",
        "Load 된 데이터셋을 모델 학습과 검증을 위해 Trainset과 Testset으로 랜덤 샘플링하여 나누고 데이터셋이 어떤 분포로 생겼는지 시각화하여 살펴봅니다."
      ]
    },
    {
      "cell_type": "code",
      "metadata": {
        "id": "C5gajPQx3_ic"
      },
      "source": [
        "import random\n",
        "\n",
        "\n",
        "# 랜덤시드 설정\n",
        "random.seed(123)\n",
        "\n",
        "# 데이터 랜덤 셔플\n",
        "idx = list(range(len(X)))\n",
        "random.shuffle(idx)\n",
        "\n",
        "# 앞 80개 까지는 학습용으로 뒤 20개는 테스트용으로 split\n",
        "X_train = [X[i] for i in idx[:80]]\n",
        "y_train = [y[i] for i in idx[:80]]\n",
        "X_test = [X[i] for i in idx[80:]]\n",
        "y_test = [y[i] for i in idx[80:]]"
      ],
      "execution_count": 34,
      "outputs": []
    },
    {
      "cell_type": "code",
      "metadata": {
        "colab": {
          "base_uri": "https://localhost:8080/",
          "height": 295
        },
        "id": "vRBqWsCW3_id",
        "outputId": "e36722aa-1da4-4e1d-8435-1062ff1bbbe9"
      },
      "source": [
        "# 클래스 별로 데이터를 시각화 하여 분포를 살펴보기\n",
        "plt.scatter([i[0] for idx, i in enumerate(X_train) if y_train[idx] == 0], \n",
        "            [i[1] for idx, i in enumerate(X_train) if y_train[idx] == 0],\n",
        "            label='class 0', marker='o')\n",
        "\n",
        "plt.scatter([i[0] for idx, i in enumerate(X_train) if y_train[idx] == 1], \n",
        "            [i[1] for idx, i in enumerate(X_train) if y_train[idx] == 1],\n",
        "            label='class 1', marker='s')\n",
        "\n",
        "plt.title('Training set')\n",
        "plt.xlabel('feature 1')\n",
        "plt.ylabel('feature 2')\n",
        "plt.xlim([0.0, 7])\n",
        "plt.ylim([-0.8, 0.8])\n",
        "plt.legend()\n",
        "plt.show()"
      ],
      "execution_count": 35,
      "outputs": [
        {
          "output_type": "display_data",
          "data": {
            "image/png": "[encoded data removed]",
            "text/plain": [
              "<Figure size 432x288 with 1 Axes>"
            ]
          },
          "metadata": {
            "needs_background": "light"
          }
        }
      ]
    },
    {
      "cell_type": "markdown",
      "metadata": {
        "id": "eo5xuhIL3_id"
      },
      "source": [
        "## 2) SVM 모델 구현, 학습\n",
        "이 부분에서는 Scikit-Learn의 SVC모듈의 linear 커널을 이용하여 선형 SVM모델을 선언하고 학습합니다.\n",
        "\n",
        "여기서 사용하는 SVC 클래스는 C-Support Vector Classification으로 SVM을 사용한 분류기 모델입니다.\n",
        "\n",
        "SVC class에서는 kernel 파라미터를 이용하여 사용하는 커널의 형태를 변경할 수 있습니다. 이번 실습에서는 'linear'(선형) 커널을 사용한 선형 SVM을 이용합니다.\n",
        "\n",
        "아래 `# <your code>` 부분을 채워 넣어서 SVM 모델에 훈련 데이터를 넣을 수 있도록 코드를 직접 구현하세요.\n"
      ]
    },
    {
      "cell_type": "code",
      "metadata": {
        "id": "fZX2ndDV3_ie"
      },
      "source": [
        "from sklearn.metrics import classification_report\n",
        "\n",
        "\n",
        "svm = SVC(kernel='linear') \n",
        "svm.fit(X_train,y_train)\n",
        "\n",
        "pred_train=svm.predict(X_train)\n",
        "pred_test=svm.predict(X_test)"
      ],
      "execution_count": 36,
      "outputs": []
    },
    {
      "cell_type": "markdown",
      "metadata": {
        "id": "Lxys9mai3_ie"
      },
      "source": [
        "## 3) 모델 검증\n",
        "Training set과 Test set각각에서 모델의 accuracy를 계산합니다.\n",
        "\n",
        "아래 `<your code>` 부분을 채워 넣어서 정확도를 구하는 코드를 구현하세요."
      ]
    },
    {
      "cell_type": "code",
      "metadata": {
        "colab": {
          "base_uri": "https://localhost:8080/"
        },
        "id": "CHL-1ewf3_ie",
        "outputId": "be288454-9f63-4247-e353-3362df3466c2"
      },
      "source": [
        "# Train dataset에서 성능 검증\n",
        "train_acc = sum(pred_train==y_train) / len(y_train) ##### <your code> predict train dataset with svm\n",
        "print('Train set accuracy: %.2f%%' % (train_acc*100))\n",
        "# Test dataset에서 성능 검증\n",
        "test_acc = sum(pred_test==y_test) / len(y_test) ##### <your code> predict test dataset with svm\n",
        "print('Test set accuracy: %.2f%%' % (test_acc*100))"
      ],
      "execution_count": 37,
      "outputs": [
        {
          "output_type": "stream",
          "name": "stdout",
          "text": [
            "Train set accuracy: 100.00%\n",
            "Test set accuracy: 100.00%\n"
          ]
        }
      ]
    },
    {
      "cell_type": "markdown",
      "metadata": {
        "id": "D2dP43X63_ie"
      },
      "source": [
        "## 4) Decision Boundary\n",
        "train 데이터셋과 test 데이터셋 각각을 이용하여 2개의 scatter plot을 그리고 그 위에 학습된 가중치를 이용하여 결정경계를 시각화합니다."
      ]
    },
    {
      "cell_type": "code",
      "metadata": {
        "colab": {
          "base_uri": "https://localhost:8080/",
          "height": 573
        },
        "id": "e3CnCX7l3_if",
        "outputId": "5033291d-1de5-4847-89a8-a402fd64e171"
      },
      "source": [
        "### 데이터셋에서 Decision Boundary 시각화\n",
        "X_train = np.array(X_train)\n",
        "x1_min, x1_max = X_train[:, 0].min() - 1, X_train[:, 0].max() + 1\n",
        "x2_min, x2_max = X_train[:, 1].min() - 1, X_train[:, 1].max() + 1\n",
        "# Decision Boundary를 표시하기 위해\n",
        "# x1_min부터 x1_max까지 0.02간격으로, x2_min부터 x2_max까지 0.02간격의 모든 점의 좌표를 반환\n",
        "xx1, xx2 = np.meshgrid(np.arange(x1_min, x1_max, 0.02),\n",
        "                       np.arange(x2_min, x2_max, 0.02))\n",
        "\n",
        "Z = svm.predict(np.array([xx1.ravel(), xx2.ravel()]).T) # predict all datapoint from mashgrid\n",
        "Z = Z.reshape(xx1.shape)\n",
        "plt.contourf(xx1, xx2, Z, alpha=0.3) # 범위를 색으로 표시\n",
        "\n",
        "# 그래프로 표현\n",
        "plt.scatter([i[0] for idx, i in enumerate(X_train) if y_train[idx] == 0], \n",
        "            [i[1] for idx, i in enumerate(X_train) if y_train[idx] == 0],\n",
        "            label='class 0', marker='o')\n",
        "plt.scatter([i[0] for idx, i in enumerate(X_train) if y_train[idx] == 1], \n",
        "            [i[1] for idx, i in enumerate(X_train) if y_train[idx] == 1],\n",
        "            label='class 1', marker='s')\n",
        "# 그래프로 표현\n",
        "plt.title('Training set')\n",
        "plt.xlabel('feature 1')\n",
        "plt.ylabel('feature 2')\n",
        "plt.legend()\n",
        "plt.show()\n",
        "\n",
        "\n",
        "### Test 데이터셋에서 Decision Boundary 시각화\n",
        "X_test = np.array(X_test)\n",
        "x1_min, x1_max = X_test[:, 0].min() - 1, X_test[:, 0].max() + 1\n",
        "x2_min, x2_max = X_test[:, 1].min() - 1, X_test[:, 1].max() + 1\n",
        "xx1, xx2 = np.meshgrid(np.arange(x1_min, x1_max, 0.02),\n",
        "                       np.arange(x2_min, x2_max, 0.02))\n",
        "Z = svm.predict(np.array([xx1.ravel(), xx2.ravel()]).T)\n",
        "Z = Z.reshape(xx1.shape)\n",
        "plt.contourf(xx1, xx2, Z, alpha=0.3)\n",
        "\n",
        "# 그래프로 표현\n",
        "plt.scatter([i[0] for idx, i in enumerate(X_test) if y_test[idx] == 0], \n",
        "            [i[1] for idx, i in enumerate(X_test) if y_test[idx] == 0],\n",
        "            label='class 0', marker='o')\n",
        "plt.scatter([i[0] for idx, i in enumerate(X_test) if y_test[idx] == 1], \n",
        "            [i[1] for idx, i in enumerate(X_test) if y_test[idx] == 1],\n",
        "            label='class 1', marker='s')\n",
        "# 그래프로 표현\n",
        "plt.title('Testing set')\n",
        "plt.xlabel('feature 1')\n",
        "plt.ylabel('feature 2')\n",
        "plt.legend()\n",
        "plt.show()"
      ],
      "execution_count": 38,
      "outputs": [
        {
          "output_type": "display_data",
          "data": {
            "image/png": "[encoded data removed]",
            "text/plain": [
              "<Figure size 432x288 with 1 Axes>"
            ]
          },
          "metadata": {
            "needs_background": "light"
          }
        },
        {
          "output_type": "display_data",
          "data": {
            "image/png": "[encoded data removed]",
            "text/plain": [
              "<Figure size 432x288 with 1 Axes>"
            ]
          },
          "metadata": {
            "needs_background": "light"
          }
        }
      ]
    },
    {
      "cell_type": "markdown",
      "metadata": {
        "id": "DVw3Ri_N3_if"
      },
      "source": [
        "## 5) Discussion\n",
        "\n",
        "**1) 이전 실습에서 사용된 Perceptron 과 SVM의 차이점에 대해 설명해보세요.**"
      ]
    },
    {
      "cell_type": "markdown",
      "metadata": {
        "id": "bi2uzt5r3_if"
      },
      "source": [
        "*[이탤릭체 텍스트](https://)*[답변작성]\n",
        "\n",
        "Perceptron는 Cost Function을 정의하여 Cost Function을 줄이는 방식으로 Optimization을 진행하지만 SVM은 Margin을 최대화 하는 식으로 Optimization을 진행한다. "
      ]
    },
    {
      "cell_type": "markdown",
      "metadata": {
        "id": "mEkDOEfl3_if"
      },
      "source": [
        "**2) 선형 SVM 으로 풀 수 없는 문제는 어떤것이 있는지 왜 그런지 설명해보세요.**"
      ]
    },
    {
      "cell_type": "markdown",
      "metadata": {
        "id": "9j_4vVwU3_ig"
      },
      "source": [
        "[답변작성]\n",
        "\n",
        "---\n",
        "\n"
      ]
    },
    {
      "cell_type": "markdown",
      "metadata": {
        "id": "Jjy1PayX7vAe"
      },
      "source": [
        "선형 SVM 으로는 비선형 문제를 풀 수 없다. 선형 문제는 하나의 직선으로 선형 분리가 가능해야 하는데 비선형은 그게 불가능하기 때문에 SVM 으로는 풀 수 없다."
      ]
    },
    {
      "cell_type": "markdown",
      "metadata": {
        "id": "C7sIFpJ03_ig"
      },
      "source": [
        "---"
      ]
    },
    {
      "cell_type": "markdown",
      "metadata": {
        "id": "GNyTU1Em7trM"
      },
      "source": [
        ""
      ]
    },
    {
      "cell_type": "markdown",
      "metadata": {
        "id": "CzLzG-6l3_ig"
      },
      "source": [
        "# P3.B:  SVM을 이용하여 비선형 분류 (6점)\n",
        "\n",
        "### 학습목표\n",
        "- SVM 모델을 이용하여 **선형 분류 불가능**한 데이터를 분류하는 분류기를 학습 할 수 있다.\n",
        "- Scikit-Learn을 이용하여 모델 학습, 검증 과정을 구현할 수 있다.\n",
        "\n",
        "### 실습내용\n",
        "Scikit-Learn의 SVM을 이용하여 선형 분류가 불가능한 데이터셋을 분류하는 분류기를 학습해봅니다.  \n",
        "Scikit-Learn은 SVM Classification을 위해 SVC 클래스를 제공합니다. SVC 클래스 사용법은 아래 링크를 참고하세요.  \n",
        "https://scikit-learn.org/stable/modules/generated/sklearn.svm.SVC.html\n",
        "\n",
        "실습은 다음 순서로 진행됩니다.\n",
        "- 1) 데이터셋 loading\n",
        "- 2) SVM 모델 구현, 학습, 검증, Decision Boundary 시각화 **<직접 구현>**\n",
        "- 3) Discussion\n",
        "\n",
        "**이번 실습에서 여러분은 `2) SVM 모델 구현, 학습, 검증, Decision Boundary 시각화` 부분의 코드를 직접 작성합니다.**\n",
        "\n",
        "앞으로 대부분의 실습도 위와 같은 순서로 진행됩니다. 이번 실습을 통해 각 부분의 코드를 이해하고 다음 실습에 참고하도록합니다.\n",
        "\n",
        "\n",
        "### 점수\n",
        "- Trainset과 Testset 정확도 95% 이상: 6점\n",
        "- Trainset과 Testset 정확도 94% 이상: 5점\n",
        "- Trainset과 Testset 정확도 93% 이상: 4점\n",
        "\n",
        "`.ipynb 파일과 함께 .html 파일 (File -> export as -> HTML)도 함께 제출하세요. 하나만 제출할시 감점이 있습니다.`"
      ]
    },
    {
      "cell_type": "code",
      "metadata": {
        "id": "1F7BIT3c3_ig"
      },
      "source": [
        "import os\n",
        "import numpy as np\n",
        "import matplotlib.pyplot as plt"
      ],
      "execution_count": 39,
      "outputs": []
    },
    {
      "cell_type": "markdown",
      "metadata": {
        "id": "ArFdp4k93_ig"
      },
      "source": [
        "## 1) 데이터셋 loading"
      ]
    },
    {
      "cell_type": "code",
      "metadata": {
        "colab": {
          "base_uri": "https://localhost:8080/"
        },
        "id": "akAyDgg03_ig",
        "outputId": "41eae209-0555-4368-ac33-789523dc1c34"
      },
      "source": [
        "# CSV 파일을 읽기\n",
        "dataset = np.loadtxt(\"/content/xor_dataset.csv\", delimiter=\",\")\n",
        "X = dataset[:, :2]\n",
        "y = dataset[:, 2].astype(int)\n",
        "print(len(X), len(y))"
      ],
      "execution_count": 40,
      "outputs": [
        {
          "output_type": "stream",
          "name": "stdout",
          "text": [
            "200 200\n"
          ]
        }
      ]
    },
    {
      "cell_type": "markdown",
      "metadata": {
        "id": "DDXd2lJA3_ig"
      },
      "source": [
        "### Dataset Split, 시각화"
      ]
    },
    {
      "cell_type": "code",
      "metadata": {
        "colab": {
          "base_uri": "https://localhost:8080/",
          "height": 265
        },
        "id": "EyvtdccX3_ih",
        "outputId": "3932aaaa-348c-4da1-93c8-34dde945e2a6"
      },
      "source": [
        "# 랜덤시드 설정\n",
        "random.seed(123)\n",
        "\n",
        "# 데이터 랜덤 셔플\n",
        "idx = list(range(len(X)))\n",
        "random.shuffle(idx)\n",
        "\n",
        "# 앞 160개 까지는 학습용으로 뒤 40개는 테스트용으로 split\n",
        "X_train = [X[i] for i in idx[:160]]\n",
        "y_train = [y[i] for i in idx[:160]]\n",
        "X_test = [X[i] for i in idx[160:]]\n",
        "y_test = [y[i] for i in idx[160:]]\n",
        "\n",
        "# 데이터셋 plot\n",
        "plt.scatter([i[0] for idx, i in enumerate(X_train) if y_train[idx] == 1], \n",
        "            [i[1] for idx, i in enumerate(X_train) if y_train[idx] == 1],\n",
        "            marker='o')\n",
        "\n",
        "plt.scatter([i[0] for idx, i in enumerate(X_train) if y_train[idx] == -1], \n",
        "            [i[1] for idx, i in enumerate(X_train) if y_train[idx] == -1],\n",
        "            marker='s')\n",
        "plt.show()"
      ],
      "execution_count": 41,
      "outputs": [
        {
          "output_type": "display_data",
          "data": {
            "image/png": "[encoded data removed]",
            "text/plain": [
              "<Figure size 432x288 with 1 Axes>"
            ]
          },
          "metadata": {
            "needs_background": "light"
          }
        }
      ]
    },
    {
      "cell_type": "markdown",
      "metadata": {
        "id": "lI8CC8MM3_ih"
      },
      "source": [
        "## 2) SVM 모델 구현, 학습, 검증\n",
        "\n",
        "SVM모델을 이용하여 위 데이터셋을 분류하는 분류기를 학습합니다.\n",
        "\n",
        "1. 기존의 선형커널SVM을 이용하여 학습을 해봅니다.\n",
        "2. 문제점을 확인하고 비선형 문제를 풀기 위해 커널을 변경해 봅니다."
      ]
    },
    {
      "cell_type": "markdown",
      "metadata": {
        "id": "qRlcKtaf3_ih"
      },
      "source": [
        "### 선형 불가능한 문제\n",
        "![](https://blog.kakaocdn.net/dn/1hyfi/btqwdhw53hZ/s33aTg9XF2ZDnoPkKs4IT0/img.png)"
      ]
    },
    {
      "cell_type": "markdown",
      "metadata": {
        "id": "Ep7lpF_93_ih"
      },
      "source": [
        "위 그림은 선형분리가 불가능한 데이터셋을 어떻게 커널 SVM이 분류하게 하는지 보여줍니다.\n",
        "위 데이터셋은 2차원 평명상에서는 선형 분리가 불가능하지만, 오른쪽 처럼 3차원에서 보면 한 평면으로 분리가 가능합니다.\n",
        "여기서 커널은 2차원 데이터를 3차원으로 매핑하는 함수를 의미하며, 커널의 모양에 따라 linear(선형), poly(다항), rbf(가우시안), sigmoid(시그모이드) 등으로 구분됩니다.\n",
        "3차원상의 데이터를 구분하는 평면을 결정 평면이라고 합니다. \n",
        "\n",
        "그러나 커널은 단순히 2차원 데이터를 3차원으로 만 매핑하는것이 아니라 n차원 데이터를 n차원보다 높음 m차원으로 매핑 할 수 있습니다.\n",
        "따라서 3차원 이상의 차원에서의 결정 경계를 결정 초평면이라고합니다.\n",
        "\n",
        "정리하자면 커널 SVM은 다음과정을 통해 학습됩니다.\n",
        "- 1) 커널함수를 이용해 데이터를 초공간으로 매핑\n",
        "- 2) 매핑된 초공간에서 margin이 최대화 되는 결정 초평면 탐색\n",
        "\n",
        "하지만 커널함수를 모든 데이터셋에 적용하게 되면 데이터셋이 커질수록 계산복잡도가 증가하게 됩니다. 따라서 우리는 모든 데이터셋에 적용하는것이 아니라 꼼수(Trick)을 써서 커널함수를 적용하게 됩니다. 이를 커널 트릭(Kernel Trick)이라고 합니다.\n",
        "\n",
        "** 더 읽을 거리**\n",
        "- [커널 함수와 커널 트릭](https://en.wikipedia.org/wiki/Kernel_method)"
      ]
    },
    {
      "cell_type": "code",
      "metadata": {
        "colab": {
          "base_uri": "https://localhost:8080/",
          "height": 332
        },
        "id": "oEL6Kvnb3_ih",
        "outputId": "d1290a9c-ab64-4c35-de65-a1f15960b1d6"
      },
      "source": [
        "# 기존의 선형 커널로 분류를 시도해 봅니다.\n",
        "svm = SVC(kernel='linear')\n",
        "##### <your code> training with train dataset\n",
        "svm.fit(X_train,y_train)\n",
        "pred_train=svm.predict(X_train)\n",
        "pred_test=svm.predict(X_test)\n",
        "\n",
        "\n",
        "# Train dataset에서 성능 검증\n",
        "train_acc = sum(pred_train==y_train) / len(y_train) ##### <your code> predict train dataset with svm\n",
        "print('Train set accuracy: %.2f%%' % (train_acc*100))\n",
        "\n",
        "# Test dataset에서 성능 검증\n",
        "test_acc = sum(pred_test==y_test) / len(y_test) ##### <your code> predict test dataset with svm\n",
        "print('Test set accuracy: %.2f%%' % (test_acc*100))\n",
        "\n",
        "### 데이터셋에서 Decision Boundary 시각화\n",
        "x1_min, x1_max = X[:, 0].min() - 1, X[:, 0].max() + 1\n",
        "x2_min, x2_max = X[:, 1].min() - 1, X[:, 1].max() + 1\n",
        "# Decision Boundary를 표시하기 위해\n",
        "# x1_min부터 x1_max까지 0.02간격으로, x2_min부터 x2_max까지 0.02간격의 모든 점의 좌표를 반환\n",
        "xx1, xx2 = np.meshgrid(np.arange(x1_min, x1_max, 0.02),\n",
        "                       np.arange(x2_min, x2_max, 0.02))\n",
        "Z = svm.predict(np.array([xx1.ravel(), xx2.ravel()]).T)\n",
        "Z = Z.reshape(xx1.shape)\n",
        "plt.contourf(xx1, xx2, Z, alpha=0.3)\n",
        "\n",
        "# 그래프로 표현\n",
        "plt.scatter([i[0] for idx, i in enumerate(X) if y[idx] == 1], \n",
        "            [i[1] for idx, i in enumerate(X) if y[idx] == 1],\n",
        "            label='class 0', marker='x')\n",
        "plt.scatter([i[0] for idx, i in enumerate(X) if y[idx] == -1], \n",
        "            [i[1] for idx, i in enumerate(X) if y[idx] == -1],\n",
        "            label='class 1', marker='s')\n",
        "\n",
        "# 그래프로 표현\n",
        "plt.title('Dataset')\n",
        "plt.xlabel('feature 1')\n",
        "plt.ylabel('feature 2')\n",
        "plt.legend()\n",
        "plt.show()"
      ],
      "execution_count": 42,
      "outputs": [
        {
          "output_type": "stream",
          "name": "stdout",
          "text": [
            "Train set accuracy: 53.75%\n",
            "Test set accuracy: 57.50%\n"
          ]
        },
        {
          "output_type": "display_data",
          "data": {
            "image/png": "[encoded data removed]",
            "text/plain": [
              "<Figure size 432x288 with 1 Axes>"
            ]
          },
          "metadata": {
            "needs_background": "light"
          }
        }
      ]
    },
    {
      "cell_type": "markdown",
      "metadata": {
        "id": "VDNajlIW3_ih"
      },
      "source": [
        "예상했다시피 선형커널로는 분류가 불가능합니다. 위에서 설명한 커널들로 아래 코드를 변경하면서 최적의 커널을 찾아보세요.\n",
        "\n",
        "사용가능한 파라미터는 다음과 같습니다.\n",
        "- C: 규제 파라미터로서 값이 작을 수록 찾아지는 결정 경계의 마진이 커집니다.\n",
        "- gamma: rbf, poly, sigmoid 커널에 사용되는 값으로 커널의 영향력을 나타냅니다. 값이 커질 수록 커널의 영향력이 커저 결정경계는 더 샘플에 가까워지고 구불구불하게 됩니다.\n",
        "\n",
        "이외의 파라미터는 오른쪽 사이트를 참고하세요.\n",
        "https://scikit-learn.org/stable/modules/generated/sklearn.svm.SVC.html"
      ]
    },
    {
      "cell_type": "code",
      "metadata": {
        "colab": {
          "base_uri": "https://localhost:8080/",
          "height": 332
        },
        "id": "srtFAWaE3_ih",
        "outputId": "1bab36dd-760d-446d-caed-027ee8172780"
      },
      "source": [
        "trainacc_list=list()\n",
        "testacc_list=list()\n",
        "\n",
        "# 비선형 커널의 일종인 RBF 커널로 분류를 시도해 봅니다.\n",
        "svm = SVC(kernel='rbf',C=10000.,gamma=0.1)\n",
        "svm.fit(X_train,y_train)\n",
        "pred_train=svm.predict(X_train)\n",
        "pred_test=svm.predict(X_test)\n",
        "\n",
        "\n",
        "# Train dataset에서 성능 검증\n",
        "train_acc = sum(pred_train==y_train) / len(y_train) ##### <your code> predict train dataset with svm\n",
        "print('Train set accuracy: %.2f%%' % (train_acc*100))\n",
        "\n",
        "# Test dataset에서 성능 검증\n",
        "test_acc = sum(pred_test==y_test) / len(y_test) ##### <your code> predict test dataset with svm\n",
        "print('Test set accuracy: %.2f%%' % (test_acc*100))\n",
        "\n",
        "trainacc_list.append(train_acc)\n",
        "testacc_list.append(test_acc)\n",
        "\n",
        "### 데이터셋에서 Decision Boundary 시각화\n",
        "x1_min, x1_max = X[:, 0].min() - 1, X[:, 0].max() + 1\n",
        "x2_min, x2_max = X[:, 1].min() - 1, X[:, 1].max() + 1\n",
        "xx1, xx2 = np.meshgrid(np.arange(x1_min, x1_max, 0.02),\n",
        "                       np.arange(x2_min, x2_max, 0.02))\n",
        "Z = svm.predict(np.array([xx1.ravel(), xx2.ravel()]).T)\n",
        "Z = Z.reshape(xx1.shape)\n",
        "plt.contourf(xx1, xx2, Z, alpha=0.3)\n",
        "\n",
        "# 그래프로 표현\n",
        "plt.scatter([i[0] for idx, i in enumerate(X) if y[idx] == 1], \n",
        "            [i[1] for idx, i in enumerate(X) if y[idx] == 1],\n",
        "            label='class 0', marker='x')\n",
        "plt.scatter([i[0] for idx, i in enumerate(X) if y[idx] == -1], \n",
        "            [i[1] for idx, i in enumerate(X) if y[idx] == -1],\n",
        "            label='class 1', marker='s')\n",
        "## testset 강조\n",
        "plt.scatter([i[0] for idx, i in enumerate(X_test) if y_test[idx] == 1],\n",
        "            [i[1] for idx, i in enumerate(X_test) if y_test[idx] == 1],\n",
        "            label='class 0 (test)', facecolors='none', edgecolor='black', s=100, marker='o')\n",
        "plt.scatter([i[0] for idx, i in enumerate(X_test) if y_test[idx] == -1],\n",
        "            [i[1] for idx, i in enumerate(X_test) if y_test[idx] == -1],\n",
        "            label='class 1 (test)', facecolors='none', edgecolor='red', s=100, marker='o')\n",
        "\n",
        "\n",
        "# 그래프로 표현\n",
        "plt.title('Dataset')\n",
        "plt.xlabel('feature 1')\n",
        "plt.ylabel('feature 2')\n",
        "plt.legend()\n",
        "plt.show()"
      ],
      "execution_count": 45,
      "outputs": [
        {
          "output_type": "stream",
          "name": "stdout",
          "text": [
            "Train set accuracy: 98.75%\n",
            "Test set accuracy: 100.00%\n"
          ]
        },
        {
          "output_type": "display_data",
          "data": {
            "image/png": "[encoded data removed]",
            "text/plain": [
              "<Figure size 432x288 with 1 Axes>"
            ]
          },
          "metadata": {
            "needs_background": "light"
          }
        }
      ]
    },
    {
      "cell_type": "code",
      "metadata": {
        "colab": {
          "base_uri": "https://localhost:8080/",
          "height": 332
        },
        "id": "Jyh6Aeth8E6s",
        "outputId": "80d6bb73-40e8-4a85-8847-3963fd741392"
      },
      "source": [
        "\n",
        "\n",
        "# 비선형 커널의 일종인 poly 커널로 분류를 시도해 봅니다.\n",
        "svm = SVC(kernel='poly',C=10.,gamma=0.1)\n",
        "svm.fit(X_train,y_train)\n",
        "pred_train=svm.predict(X_train)\n",
        "pred_test=svm.predict(X_test)\n",
        "\n",
        "\n",
        "# Train dataset에서 성능 검증\n",
        "train_acc = sum(pred_train==y_train) / len(y_train) ##### <your code> predict train dataset with svm\n",
        "print('Train set accuracy: %.2f%%' % (train_acc*100))\n",
        "\n",
        "# Test dataset에서 성능 검증\n",
        "test_acc = sum(pred_test==y_test) / len(y_test) ##### <your code> predict test dataset with svm\n",
        "print('Test set accuracy: %.2f%%' % (test_acc*100))\n",
        "\n",
        "trainacc_list.append(train_acc)\n",
        "testacc_list.append(test_acc)\n",
        "\n",
        "### 데이터셋에서 Decision Boundary 시각화\n",
        "x1_min, x1_max = X[:, 0].min() - 1, X[:, 0].max() + 1\n",
        "x2_min, x2_max = X[:, 1].min() - 1, X[:, 1].max() + 1\n",
        "xx1, xx2 = np.meshgrid(np.arange(x1_min, x1_max, 0.02),\n",
        "                       np.arange(x2_min, x2_max, 0.02))\n",
        "Z = svm.predict(np.array([xx1.ravel(), xx2.ravel()]).T)\n",
        "Z = Z.reshape(xx1.shape)\n",
        "plt.contourf(xx1, xx2, Z, alpha=0.3)\n",
        "\n",
        "# 그래프로 표현\n",
        "plt.scatter([i[0] for idx, i in enumerate(X) if y[idx] == 1], \n",
        "            [i[1] for idx, i in enumerate(X) if y[idx] == 1],\n",
        "            label='class 0', marker='x')\n",
        "plt.scatter([i[0] for idx, i in enumerate(X) if y[idx] == -1], \n",
        "            [i[1] for idx, i in enumerate(X) if y[idx] == -1],\n",
        "            label='class 1', marker='s')\n",
        "## testset 강조\n",
        "plt.scatter([i[0] for idx, i in enumerate(X_test) if y_test[idx] == 1],\n",
        "            [i[1] for idx, i in enumerate(X_test) if y_test[idx] == 1],\n",
        "            label='class 0 (test)', facecolors='none', edgecolor='black', s=100, marker='o')\n",
        "plt.scatter([i[0] for idx, i in enumerate(X_test) if y_test[idx] == -1],\n",
        "            [i[1] for idx, i in enumerate(X_test) if y_test[idx] == -1],\n",
        "            label='class 1 (test)', facecolors='none', edgecolor='red', s=100, marker='o')\n",
        "\n",
        "\n",
        "# 그래프로 표현\n",
        "plt.title('Dataset')\n",
        "plt.xlabel('feature 1')\n",
        "plt.ylabel('feature 2')\n",
        "plt.legend()\n",
        "plt.show()"
      ],
      "execution_count": 51,
      "outputs": [
        {
          "output_type": "stream",
          "name": "stdout",
          "text": [
            "Train set accuracy: 56.25%\n",
            "Test set accuracy: 57.50%\n"
          ]
        },
        {
          "output_type": "display_data",
          "data": {
            "image/png": "[encoded data removed]",
            "text/plain": [
              "<Figure size 432x288 with 1 Axes>"
            ]
          },
          "metadata": {
            "needs_background": "light"
          }
        }
      ]
    },
    {
      "cell_type": "code",
      "metadata": {
        "colab": {
          "base_uri": "https://localhost:8080/",
          "height": 332
        },
        "id": "EOAx1AKR8F_Q",
        "outputId": "cee0d66f-0ed9-42fc-fbcc-433e24151f2d"
      },
      "source": [
        "# 비선형 커널의 일종인 RBF 커널로 분류를 시도해 봅니다.\n",
        "svm = SVC(kernel='sigmoid',C=100.,gamma=0.1)\n",
        "svm.fit(X_train,y_train)\n",
        "pred_train=svm.predict(X_train)\n",
        "pred_test=svm.predict(X_test)\n",
        "\n",
        "\n",
        "# Train dataset에서 성능 검증\n",
        "train_acc = sum(pred_train==y_train) / len(y_train) ##### <your code> predict train dataset with svm\n",
        "print('Train set accuracy: %.2f%%' % (train_acc*100))\n",
        "\n",
        "# Test dataset에서 성능 검증\n",
        "test_acc = sum(pred_test==y_test) / len(y_test) ##### <your code> predict test dataset with svm\n",
        "print('Test set accuracy: %.2f%%' % (test_acc*100))\n",
        "\n",
        "trainacc_list.append(train_acc)\n",
        "testacc_list.append(test_acc)\n",
        "\n",
        "### 데이터셋에서 Decision Boundary 시각화\n",
        "x1_min, x1_max = X[:, 0].min() - 1, X[:, 0].max() + 1\n",
        "x2_min, x2_max = X[:, 1].min() - 1, X[:, 1].max() + 1\n",
        "xx1, xx2 = np.meshgrid(np.arange(x1_min, x1_max, 0.02),\n",
        "                       np.arange(x2_min, x2_max, 0.02))\n",
        "Z = svm.predict(np.array([xx1.ravel(), xx2.ravel()]).T)\n",
        "Z = Z.reshape(xx1.shape)\n",
        "plt.contourf(xx1, xx2, Z, alpha=0.3)\n",
        "\n",
        "# 그래프로 표현\n",
        "plt.scatter([i[0] for idx, i in enumerate(X) if y[idx] == 1], \n",
        "            [i[1] for idx, i in enumerate(X) if y[idx] == 1],\n",
        "            label='class 0', marker='x')\n",
        "plt.scatter([i[0] for idx, i in enumerate(X) if y[idx] == -1], \n",
        "            [i[1] for idx, i in enumerate(X) if y[idx] == -1],\n",
        "            label='class 1', marker='s')\n",
        "## testset 강조\n",
        "plt.scatter([i[0] for idx, i in enumerate(X_test) if y_test[idx] == 1],\n",
        "            [i[1] for idx, i in enumerate(X_test) if y_test[idx] == 1],\n",
        "            label='class 0 (test)', facecolors='none', edgecolor='black', s=100, marker='o')\n",
        "plt.scatter([i[0] for idx, i in enumerate(X_test) if y_test[idx] == -1],\n",
        "            [i[1] for idx, i in enumerate(X_test) if y_test[idx] == -1],\n",
        "            label='class 1 (test)', facecolors='none', edgecolor='red', s=100, marker='o')\n",
        "\n",
        "\n",
        "# 그래프로 표현\n",
        "plt.title('Dataset')\n",
        "plt.xlabel('feature 1')\n",
        "plt.ylabel('feature 2')\n",
        "plt.legend()\n",
        "plt.show()"
      ],
      "execution_count": 52,
      "outputs": [
        {
          "output_type": "stream",
          "name": "stdout",
          "text": [
            "Train set accuracy: 52.50%\n",
            "Test set accuracy: 60.00%\n"
          ]
        },
        {
          "output_type": "display_data",
          "data": {
            "image/png": "[encoded data removed]",
            "text/plain": [
              "<Figure size 432x288 with 1 Axes>"
            ]
          },
          "metadata": {
            "needs_background": "light"
          }
        }
      ]
    },
    {
      "cell_type": "code",
      "metadata": {
        "colab": {
          "base_uri": "https://localhost:8080/"
        },
        "id": "zM8400vy8FzF",
        "outputId": "58f2bff3-1103-404b-fb7e-011ae724cfad"
      },
      "source": [
        "kernel_list=['rbf','poly','sigmoid']\n",
        "print(\"Train Accuracy\")\n",
        "for k,a in zip(kernel_list,trainacc_list):\n",
        "  a=float(a)\n",
        "  print(\"{}: {:.2f}%\".format(k,100*a))"
      ],
      "execution_count": 71,
      "outputs": [
        {
          "output_type": "stream",
          "name": "stdout",
          "text": [
            "Train Accuracy\n",
            "rbf: 98.75%\n",
            "poly: 56.88%\n",
            "sigmoid: 51.25%\n"
          ]
        }
      ]
    },
    {
      "cell_type": "code",
      "metadata": {
        "colab": {
          "base_uri": "https://localhost:8080/"
        },
        "id": "EK6LcHpi8-C1",
        "outputId": "5665c921-9402-4d61-f1ee-ed7947b0d6e7"
      },
      "source": [
        "print(\"Test Accuracy\")\n",
        "for k,a in zip(kernel_list,testacc_list):\n",
        "  a=float(a)\n",
        "  print(\"{}: {:.2f}%\".format(k,100*a))"
      ],
      "execution_count": 72,
      "outputs": [
        {
          "output_type": "stream",
          "name": "stdout",
          "text": [
            "Test Accuracy\n",
            "rbf: 100.00%\n",
            "poly: 60.00%\n",
            "sigmoid: 57.50%\n"
          ]
        }
      ]
    },
    {
      "cell_type": "markdown",
      "metadata": {
        "id": "Ja-QGPKM3_ii"
      },
      "source": [
        "## 3) Discussion"
      ]
    },
    {
      "cell_type": "markdown",
      "metadata": {
        "id": "BOsskA5S3_ii"
      },
      "source": [
        "**1) 학습, 테스트 정확도는 얼마인가요? (위 숫자를 복사하세요.)**"
      ]
    },
    {
      "cell_type": "markdown",
      "metadata": {
        "id": "eTN-993X3_ii"
      },
      "source": [
        "- Training:  98.75%\n",
        "- Test 100%"
      ]
    },
    {
      "cell_type": "markdown",
      "metadata": {
        "id": "mIgeWzxB3_ii"
      },
      "source": [
        "**2) SVM의 Parameter 값에 따라 발생할 수 있는 Overfitting과 Underfitting을 설명하세요.**"
      ]
    },
    {
      "cell_type": "markdown",
      "metadata": {
        "id": "5smT9tMa3_ii"
      },
      "source": [
        "[제안하는 방법 적기]\n",
        "\n",
        " C는 얼마나 많은 데이터 샘플이 다른 클래스에 놓이는 것을 허용하는지를 결정한다. 작을 수록 많이 허용하고, 클 수록 적게 허용한다. 다른 말로, C값을 낮게 설정하면 이상치들이 있을 가능성을 크게 잡아 일반적인 결정 경계를 찾아내고, 높게 설정하면 반대로 이상치의 존재 가능성을 작게 봐서 좀 더 세심하게 결정 경계를 찾아낸다. C가 너무 낮으면 과소적합(underfitting)이 될 가능성이 커지고, C가 너무 높으면 과대적합(overfitting)이 될 가능성이 커지니 적합한 C값을 찾아내는 것이 중요하다. "
      ]
    },
    {
      "cell_type": "markdown",
      "metadata": {
        "id": "vX3yfwd2_gc4"
      },
      "source": [
        ""
      ]
    },
    {
      "cell_type": "markdown",
      "metadata": {
        "id": "a_2275ep3_ii"
      },
      "source": [
        "**3) 다른 커널(poly, sigmoid)을 사용했을 때의 결과를 rbf 커널과 비교하여 작성하세요.**"
      ]
    },
    {
      "cell_type": "markdown",
      "metadata": {
        "id": "rz_XognB3_ii"
      },
      "source": [
        "[답변작성]\n",
        "Train Accuracy\n",
        "rbf: 98.75%\n",
        "poly: 56.88%\n",
        "sigmoid: 51.25%\n",
        "\n",
        "\n",
        "Test Accuracy\n",
        "rbf: 100.00%\n",
        "poly: 60.00%\n",
        "sigmoid: 57.50%\n"
      ]
    }
  ]
}