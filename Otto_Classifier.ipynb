{
  "nbformat": 4,
  "nbformat_minor": 0,
  "metadata": {
    "colab": {
      "name": "Otto Classifier.ipynb",
      "provenance": [],
      "machine_shape": "hm",
      "authorship_tag": "ABX9TyNm3b8cwhEOEjk3uwPFy3PV",
      "include_colab_link": true
    },
    "kernelspec": {
      "name": "python3",
      "display_name": "Python 3"
    },
    "language_info": {
      "name": "python"
    },
    "accelerator": "GPU"
  },
  "cells": [
    {
      "cell_type": "markdown",
      "metadata": {
        "id": "view-in-github",
        "colab_type": "text"
      },
      "source": [
        "<a href=\"https://colab.research.google.com/github/LeeJeongWoon-Workout/Deep_Learning_Pytorch/blob/main/Otto_Classifier.ipynb\" target=\"_parent\"><img src=\"https://colab.research.google.com/assets/colab-badge.svg\" alt=\"Open In Colab\"/></a>"
      ]
    },
    {
      "cell_type": "markdown",
      "metadata": {
        "id": "vgxef0xYTMhv"
      },
      "source": [
        "**Libray**"
      ]
    },
    {
      "cell_type": "code",
      "metadata": {
        "id": "quGtMoaLtNXF"
      },
      "source": [
        "import pandas as pd\n",
        "import numpy as np\n",
        "import matplotlib.pyplot as plt\n",
        "%matplotlib inline\n",
        "\n",
        "from __future__ import print_function\n",
        "import torch\n",
        "import torch.nn as nn\n",
        "import torch.nn.functional as F\n",
        "import torch.optim as optim\n",
        "from torch.autograd import Variable\n",
        "from torchvision import datasets,transforms\n",
        "from torch.utils.data import Dataset,DataLoader"
      ],
      "execution_count": 1,
      "outputs": []
    },
    {
      "cell_type": "markdown",
      "metadata": {
        "id": "OPExC93oTXVt"
      },
      "source": [
        "Data PreProcessing"
      ]
    },
    {
      "cell_type": "code",
      "metadata": {
        "id": "PZbFQZzutR8P"
      },
      "source": [
        "train_pd=pd.read_csv('/content/train.csv')\n",
        "test_pd=pd.read_csv('/content/test.csv')\n",
        "test_label=pd.read_csv('/content/sampleSubmission.csv')\n",
        "\n",
        "train_pd=train_pd.drop(['id'],axis=1)\n",
        "test_pd=test_pd.drop(['id'],axis=1)\n",
        "drop=['id','Class_2', 'Class_3', 'Class_4', 'Class_5', 'Class_6',\n",
        "       'Class_7', 'Class_8', 'Class_9']\n",
        "test_label=test_label.drop(drop,axis=1)\n",
        "test_pd=pd.concat([test_pd,test_label],axis=1)\n",
        "\n",
        "\n",
        "to_normalize=['feat_1', 'feat_2', 'feat_3', 'feat_4', 'feat_5', 'feat_6', 'feat_7',\n",
        "       'feat_8', 'feat_9', 'feat_10', 'feat_11', 'feat_12', 'feat_13',\n",
        "       'feat_14', 'feat_15', 'feat_16', 'feat_17', 'feat_18', 'feat_19',\n",
        "       'feat_20', 'feat_21', 'feat_22', 'feat_23', 'feat_24', 'feat_25',\n",
        "       'feat_26', 'feat_27', 'feat_28', 'feat_29', 'feat_30', 'feat_31',\n",
        "       'feat_32', 'feat_33', 'feat_34', 'feat_35', 'feat_36', 'feat_37',\n",
        "       'feat_38', 'feat_39', 'feat_40', 'feat_41', 'feat_42', 'feat_43',\n",
        "       'feat_44', 'feat_45', 'feat_46', 'feat_47', 'feat_48', 'feat_49',\n",
        "       'feat_50', 'feat_51', 'feat_52', 'feat_53', 'feat_54', 'feat_55',\n",
        "       'feat_56', 'feat_57', 'feat_58', 'feat_59', 'feat_60', 'feat_61',\n",
        "       'feat_62', 'feat_63', 'feat_64', 'feat_65', 'feat_66', 'feat_67',\n",
        "       'feat_68', 'feat_69', 'feat_70', 'feat_71', 'feat_72', 'feat_73',\n",
        "       'feat_74', 'feat_75', 'feat_76', 'feat_77', 'feat_78', 'feat_79',\n",
        "       'feat_80', 'feat_81', 'feat_82', 'feat_83', 'feat_84', 'feat_85',\n",
        "       'feat_86', 'feat_87', 'feat_88', 'feat_89', 'feat_90', 'feat_91',\n",
        "       'feat_92', 'feat_93']\n",
        "for each in to_normalize:\n",
        "    mean, std= train_pd[each].mean(), train_pd[each].std()\n",
        "    train_pd.loc[:, each]=(train_pd[each]-mean)/std\n",
        "for each in to_normalize:\n",
        "    mean, std= test_pd[each].mean(), test_pd[each].std()\n",
        "    test_pd.loc[:, each]=(test_pd[each]-mean)/std\n",
        "\n",
        "dummies=pd.get_dummies(train_pd['target'],prefix='target',drop_first=False)\n",
        "train_pd=pd.concat([train_pd,dummies],axis=1)\n",
        "train_pd=train_pd.drop(['target'],axis=1)\n",
        "\n",
        "columns_list=['target_Class_2', 'target_Class_3',\n",
        "       'target_Class_4', 'target_Class_5', 'target_Class_6', 'target_Class_7',\n",
        "       'target_Class_8', 'target_Class_9']\n",
        "\n",
        "for i in columns_list:\n",
        "  test_pd[i]=0"
      ],
      "execution_count": 134,
      "outputs": []
    },
    {
      "cell_type": "markdown",
      "metadata": {
        "id": "H3RLIs04TaYI"
      },
      "source": [
        "Define Dataset"
      ]
    },
    {
      "cell_type": "code",
      "metadata": {
        "id": "KkDoXyNvuX5O"
      },
      "source": [
        "class set_up_data(Dataset):\n",
        "    def __init__(self, filename):\n",
        "        data_matrix=filename.values\n",
        "        data_matrix=torch.from_numpy(data_matrix)  #converting tensor to numpy for matrix operations\n",
        "        self.data=data_matrix[:,0:92+1]              #columns 2-14 are the data \n",
        "        self.data=self.data.float()\n",
        "        self.target=data_matrix[:,92+1:1000]               #column 1 is the true output\n",
        "        \n",
        "        self.n_samples = self.data.shape[0]\n",
        "    \n",
        "    def __len__(self):   # Length of the dataset.\n",
        "        return self.n_samples\n",
        "    \n",
        "    def __getitem__(self, index):   # Function that returns one point and one label.\n",
        "        #return torch.Tensor(self.data[index]), torch.Tensor(self.target[index])\n",
        "        return self.data[index], self.target[index]\n",
        "\n",
        "train_data=set_up_data(train_pd)\n",
        "train_loader = DataLoader(train_data,batch_size=256,shuffle=True)\n",
        "\n",
        "test_data=set_up_data(test_pd)\n",
        "test_loader=DataLoader(test_data,batch_size=256)"
      ],
      "execution_count": 143,
      "outputs": []
    },
    {
      "cell_type": "markdown",
      "metadata": {
        "id": "UeSQ75qwTdoi"
      },
      "source": [
        "Define Model"
      ]
    },
    {
      "cell_type": "code",
      "metadata": {
        "id": "5oXTJtW-ufgj"
      },
      "source": [
        "class Net(torch.nn.Module):\n",
        "    def __init__(self):\n",
        "        super(Net, self).__init__()\n",
        "        self.linear1 = torch.nn.Linear(93, 64)\n",
        "        self.linear2 = torch.nn.Linear(64, 64)\n",
        "        self.linear3 = torch.nn.Linear(64, 32)\n",
        "        self.linear4 = torch.nn.Linear(32, 9)\n",
        "        self.linearlinear=nn.Sequential(\n",
        "            self.linear1,\n",
        "            nn.ELU(),\n",
        "            self.linear2,\n",
        "            nn.ELU(),\n",
        "            self.linear3,\n",
        "            nn.ELU(),\n",
        "            self.linear4,\n",
        "\n",
        "        )\n",
        " \n",
        "    def forward(self, x):\n",
        "        x=self.linearlinear(x)\n",
        "        return x"
      ],
      "execution_count": 173,
      "outputs": []
    },
    {
      "cell_type": "code",
      "metadata": {
        "id": "xgkunHQAujbz"
      },
      "source": [
        "model     = Net()\n",
        "model=model.cuda()\n",
        "optimizer = torch.optim.Adam(model.parameters(), lr=0.01)\n",
        "loss_fn   = nn.CrossEntropyLoss(reduction='mean').cuda()\n",
        "device = 'cuda' if torch.cuda.is_available() else 'cpu'"
      ],
      "execution_count": 174,
      "outputs": []
    },
    {
      "cell_type": "markdown",
      "metadata": {
        "id": "gzpkIZ7cTgm9"
      },
      "source": [
        "Model Training"
      ]
    },
    {
      "cell_type": "code",
      "metadata": {
        "colab": {
          "base_uri": "https://localhost:8080/",
          "height": 315
        },
        "id": "vimzm7yQvECm",
        "outputId": "c9aa744f-c64b-45ed-a7bc-7598e9312fb2"
      },
      "source": [
        "import tqdm\n",
        "\n",
        "epochs=100\n",
        "loss_data=[]\n",
        "for e in tqdm.trange(epochs):\n",
        "    running_loss = 0#get images\n",
        "    for info, labels in train_loader:\n",
        "        info=info.to(device)\n",
        "        labels=labels.to(device)\n",
        "        #Flatten images\n",
        "        #images=images.view(images.shape[0], -1)\n",
        "        dummy_labels=labels.float()\n",
        "        #info=info.reshape(info.shape[0],)\n",
        "        # Clear the gradients, do this because gradients are accumulated\n",
        "        optimizer.zero_grad()\n",
        "\n",
        "        #Forward pass\n",
        "        output=model(info)\n",
        "        \n",
        "\n",
        "        #Calculate the loss\n",
        "        loss=loss_fn(output,dummy_labels)\n",
        "        \n",
        "        \n",
        "        \n",
        "        #backward propagation\n",
        "        loss.backward()\n",
        "        \n",
        "        optimizer.step()\n",
        "        \n",
        "        running_loss += loss.item()\n",
        "    \n",
        "\n",
        "\n",
        "     ## TODO: Implement the validation pass and print out the validation accuracy\n",
        "    else:\n",
        "        #print(f\"Training loss: {running_loss/len(train_loader)}\") \n",
        "        loss_data.append(loss)\n",
        "        #print('bias',model.linearlinear[0].bias)\n",
        "        #print('weight',model.linearlinear[0].weight)\n",
        "        #print(\"output\",output)\n",
        "        #print(\"labels\",dummy_labels)\n",
        "        #print('shape',info.shape)\n",
        "#print(\"output\",output)   \n",
        "\n",
        "epoch_count = range(1, epochs + 1)\n",
        "\n",
        "plt.plot(epoch_count, loss_data, 'r')\n",
        "plt.legend(['Training Loss'])\n",
        "plt.xlabel('Epoch')\n",
        "plt.ylabel('Loss')\n",
        "plt.show();\n",
        "\n",
        "print(f\"Training loss: {running_loss/len(train_loader)}\") "
      ],
      "execution_count": 175,
      "outputs": [
        {
          "output_type": "stream",
          "name": "stderr",
          "text": [
            "100%|██████████| 100/100 [01:15<00:00,  1.32it/s]\n"
          ]
        },
        {
          "output_type": "display_data",
          "data": {
            "image/png": "[encoded data removed]",
            "text/plain": [
              "<Figure size 432x288 with 1 Axes>"
            ]
          },
          "metadata": {
            "needs_background": "light"
          }
        },
        {
          "output_type": "stream",
          "name": "stdout",
          "text": [
            "Training loss: 0.3543980931940158\n"
          ]
        }
      ]
    },
    {
      "cell_type": "markdown",
      "metadata": {
        "id": "cxZ7Jcv2Tkyp"
      },
      "source": [
        "Model Evaluation"
      ]
    },
    {
      "cell_type": "code",
      "metadata": {
        "colab": {
          "base_uri": "https://localhost:8080/"
        },
        "id": "efVNJ0PcywkZ",
        "outputId": "e9b1c3d5-c67f-4934-ea83-4a44581defa4"
      },
      "source": [
        "correct = 0\n",
        "total = 0\n",
        "# 학습 중이 아니므로, 출력에 대한 변화도를 계산할 필요가 없습니다\n",
        "with torch.no_grad():\n",
        "    for data, target in test_loader : \n",
        "        data, target = data.to(device), target.to(device)       \n",
        "        output = model(data)\n",
        "        target=target.argmax(dim=1)\n",
        "        pred = output.argmax(dim=1)\n",
        "        correct += pred.eq(target.view_as(pred)).sum().item()\n",
        "\n",
        "print('Test Accuracy: ',100*correct/len(test_loader.dataset))"
      ],
      "execution_count": 176,
      "outputs": [
        {
          "output_type": "stream",
          "name": "stdout",
          "text": [
            "Test Accuracy:  2.4894713509919097\n"
          ]
        }
      ]
    },
    {
      "cell_type": "code",
      "metadata": {
        "id": "pbbQ0Dh40Z65"
      },
      "source": [
        ""
      ],
      "execution_count": 151,
      "outputs": []
    },
    {
      "cell_type": "code",
      "metadata": {
        "id": "sgkdUtMS348C"
      },
      "source": [
        ""
      ],
      "execution_count": 97,
      "outputs": []
    },
    {
      "cell_type": "code",
      "metadata": {
        "id": "F0sEb-CGEC5L"
      },
      "source": [
        "\n",
        "\n"
      ],
      "execution_count": null,
      "outputs": []
    },
    {
      "cell_type": "code",
      "metadata": {
        "id": "VQs3N-3HExls"
      },
      "source": [
        "\n"
      ],
      "execution_count": null,
      "outputs": []
    }
  ]
}